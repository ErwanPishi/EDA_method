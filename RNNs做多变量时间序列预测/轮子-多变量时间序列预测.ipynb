{
 "cells": [
  {
   "cell_type": "code",
   "execution_count": 5,
   "id": "6cd2be18",
   "metadata": {
    "ExecuteTime": {
     "end_time": "2024-04-04T14:32:24.532019Z",
     "start_time": "2024-04-04T14:32:24.527533Z"
    }
   },
   "outputs": [],
   "source": [
    "import pandas as pd\n",
    "import numpy as np\n",
    "from sklearn.metrics import mean_squared_error\n",
    "from sklearn.preprocessing import LabelEncoder\n",
    "from sklearn.model_selection import train_test_split\n",
    "from torch import nn\n",
    "from tqdm import tqdm\n",
    "from datetime import date, timedelta\n",
    "\n",
    "import warnings\n",
    "warnings.filterwarnings('ignore')\n"
   ]
  },
  {
   "cell_type": "code",
   "execution_count": 2,
   "id": "65bebad7",
   "metadata": {
    "ExecuteTime": {
     "end_time": "2024-04-04T14:30:57.496100Z",
     "start_time": "2024-04-04T14:30:57.467818Z"
    }
   },
   "outputs": [
    {
     "data": {
      "text/html": [
       "<div>\n",
       "<style scoped>\n",
       "    .dataframe tbody tr th:only-of-type {\n",
       "        vertical-align: middle;\n",
       "    }\n",
       "\n",
       "    .dataframe tbody tr th {\n",
       "        vertical-align: top;\n",
       "    }\n",
       "\n",
       "    .dataframe thead th {\n",
       "        text-align: right;\n",
       "    }\n",
       "</style>\n",
       "<table border=\"1\" class=\"dataframe\">\n",
       "  <thead>\n",
       "    <tr style=\"text-align: right;\">\n",
       "      <th></th>\n",
       "      <th>X1</th>\n",
       "      <th>X2</th>\n",
       "      <th>X3</th>\n",
       "      <th>Y</th>\n",
       "    </tr>\n",
       "  </thead>\n",
       "  <tbody>\n",
       "    <tr>\n",
       "      <th>count</th>\n",
       "      <td>500.000000</td>\n",
       "      <td>500.000000</td>\n",
       "      <td>500.000000</td>\n",
       "      <td>5.000000e+02</td>\n",
       "    </tr>\n",
       "    <tr>\n",
       "      <th>mean</th>\n",
       "      <td>-249.500000</td>\n",
       "      <td>14.502000</td>\n",
       "      <td>0.040361</td>\n",
       "      <td>5.684342e-17</td>\n",
       "    </tr>\n",
       "    <tr>\n",
       "      <th>std</th>\n",
       "      <td>144.481833</td>\n",
       "      <td>2.819556</td>\n",
       "      <td>0.951013</td>\n",
       "      <td>7.071068e-01</td>\n",
       "    </tr>\n",
       "    <tr>\n",
       "      <th>min</th>\n",
       "      <td>-499.000000</td>\n",
       "      <td>10.000000</td>\n",
       "      <td>-3.103284</td>\n",
       "      <td>-9.999950e-01</td>\n",
       "    </tr>\n",
       "    <tr>\n",
       "      <th>25%</th>\n",
       "      <td>-374.250000</td>\n",
       "      <td>12.000000</td>\n",
       "      <td>-0.565710</td>\n",
       "      <td>-7.048748e-01</td>\n",
       "    </tr>\n",
       "    <tr>\n",
       "      <th>50%</th>\n",
       "      <td>-249.500000</td>\n",
       "      <td>14.000000</td>\n",
       "      <td>0.004059</td>\n",
       "      <td>-1.224647e-16</td>\n",
       "    </tr>\n",
       "    <tr>\n",
       "      <th>75%</th>\n",
       "      <td>-124.750000</td>\n",
       "      <td>17.000000</td>\n",
       "      <td>0.648191</td>\n",
       "      <td>7.048748e-01</td>\n",
       "    </tr>\n",
       "    <tr>\n",
       "      <th>max</th>\n",
       "      <td>0.000000</td>\n",
       "      <td>19.000000</td>\n",
       "      <td>2.892125</td>\n",
       "      <td>9.999950e-01</td>\n",
       "    </tr>\n",
       "  </tbody>\n",
       "</table>\n",
       "</div>"
      ],
      "text/plain": [
       "               X1          X2          X3             Y\n",
       "count  500.000000  500.000000  500.000000  5.000000e+02\n",
       "mean  -249.500000   14.502000    0.040361  5.684342e-17\n",
       "std    144.481833    2.819556    0.951013  7.071068e-01\n",
       "min   -499.000000   10.000000   -3.103284 -9.999950e-01\n",
       "25%   -374.250000   12.000000   -0.565710 -7.048748e-01\n",
       "50%   -249.500000   14.000000    0.004059 -1.224647e-16\n",
       "75%   -124.750000   17.000000    0.648191  7.048748e-01\n",
       "max      0.000000   19.000000    2.892125  9.999950e-01"
      ]
     },
     "execution_count": 2,
     "metadata": {},
     "output_type": "execute_result"
    }
   ],
   "source": [
    "data = pd.DataFrame({'X1':[-i for i in range(500)],\n",
    "                  'X2':np.random.randint(low=10,high=20,size=500),\n",
    "                  'X3':np.random.normal(size=500),\n",
    "                  'Y':np.sin(np.linspace(0, 2*np.pi, 500))})\n",
    "data.describe()\n"
   ]
  },
  {
   "cell_type": "code",
   "execution_count": 4,
   "id": "a4899e7e",
   "metadata": {
    "ExecuteTime": {
     "end_time": "2024-04-04T14:31:04.040052Z",
     "start_time": "2024-04-04T14:31:04.025220Z"
    }
   },
   "outputs": [
    {
     "data": {
      "text/html": [
       "<div>\n",
       "<style scoped>\n",
       "    .dataframe tbody tr th:only-of-type {\n",
       "        vertical-align: middle;\n",
       "    }\n",
       "\n",
       "    .dataframe tbody tr th {\n",
       "        vertical-align: top;\n",
       "    }\n",
       "\n",
       "    .dataframe thead th {\n",
       "        text-align: right;\n",
       "    }\n",
       "</style>\n",
       "<table border=\"1\" class=\"dataframe\">\n",
       "  <thead>\n",
       "    <tr style=\"text-align: right;\">\n",
       "      <th></th>\n",
       "      <th>X1</th>\n",
       "      <th>X2</th>\n",
       "      <th>X3</th>\n",
       "      <th>Y</th>\n",
       "    </tr>\n",
       "  </thead>\n",
       "  <tbody>\n",
       "    <tr>\n",
       "      <th>0</th>\n",
       "      <td>0</td>\n",
       "      <td>13</td>\n",
       "      <td>1.318223</td>\n",
       "      <td>0.000000e+00</td>\n",
       "    </tr>\n",
       "    <tr>\n",
       "      <th>1</th>\n",
       "      <td>-1</td>\n",
       "      <td>13</td>\n",
       "      <td>0.123312</td>\n",
       "      <td>1.259122e-02</td>\n",
       "    </tr>\n",
       "    <tr>\n",
       "      <th>2</th>\n",
       "      <td>-2</td>\n",
       "      <td>18</td>\n",
       "      <td>0.044109</td>\n",
       "      <td>2.518045e-02</td>\n",
       "    </tr>\n",
       "    <tr>\n",
       "      <th>3</th>\n",
       "      <td>-3</td>\n",
       "      <td>10</td>\n",
       "      <td>1.638628</td>\n",
       "      <td>3.776568e-02</td>\n",
       "    </tr>\n",
       "    <tr>\n",
       "      <th>4</th>\n",
       "      <td>-4</td>\n",
       "      <td>18</td>\n",
       "      <td>-0.405989</td>\n",
       "      <td>5.034492e-02</td>\n",
       "    </tr>\n",
       "    <tr>\n",
       "      <th>...</th>\n",
       "      <td>...</td>\n",
       "      <td>...</td>\n",
       "      <td>...</td>\n",
       "      <td>...</td>\n",
       "    </tr>\n",
       "    <tr>\n",
       "      <th>495</th>\n",
       "      <td>-495</td>\n",
       "      <td>13</td>\n",
       "      <td>0.266171</td>\n",
       "      <td>-5.034492e-02</td>\n",
       "    </tr>\n",
       "    <tr>\n",
       "      <th>496</th>\n",
       "      <td>-496</td>\n",
       "      <td>12</td>\n",
       "      <td>-0.211158</td>\n",
       "      <td>-3.776568e-02</td>\n",
       "    </tr>\n",
       "    <tr>\n",
       "      <th>497</th>\n",
       "      <td>-497</td>\n",
       "      <td>12</td>\n",
       "      <td>0.911154</td>\n",
       "      <td>-2.518045e-02</td>\n",
       "    </tr>\n",
       "    <tr>\n",
       "      <th>498</th>\n",
       "      <td>-498</td>\n",
       "      <td>14</td>\n",
       "      <td>-0.815399</td>\n",
       "      <td>-1.259122e-02</td>\n",
       "    </tr>\n",
       "    <tr>\n",
       "      <th>499</th>\n",
       "      <td>-499</td>\n",
       "      <td>18</td>\n",
       "      <td>0.432508</td>\n",
       "      <td>-2.449294e-16</td>\n",
       "    </tr>\n",
       "  </tbody>\n",
       "</table>\n",
       "<p>500 rows × 4 columns</p>\n",
       "</div>"
      ],
      "text/plain": [
       "      X1  X2        X3             Y\n",
       "0      0  13  1.318223  0.000000e+00\n",
       "1     -1  13  0.123312  1.259122e-02\n",
       "2     -2  18  0.044109  2.518045e-02\n",
       "3     -3  10  1.638628  3.776568e-02\n",
       "4     -4  18 -0.405989  5.034492e-02\n",
       "..   ...  ..       ...           ...\n",
       "495 -495  13  0.266171 -5.034492e-02\n",
       "496 -496  12 -0.211158 -3.776568e-02\n",
       "497 -497  12  0.911154 -2.518045e-02\n",
       "498 -498  14 -0.815399 -1.259122e-02\n",
       "499 -499  18  0.432508 -2.449294e-16\n",
       "\n",
       "[500 rows x 4 columns]"
      ]
     },
     "execution_count": 4,
     "metadata": {},
     "output_type": "execute_result"
    }
   ],
   "source": [
    "data\n"
   ]
  },
  {
   "cell_type": "code",
   "execution_count": 11,
   "id": "115d4fa7",
   "metadata": {
    "ExecuteTime": {
     "end_time": "2024-04-04T15:06:13.867224Z",
     "start_time": "2024-04-04T15:06:13.740498Z"
    }
   },
   "outputs": [],
   "source": [
    "# 创建时间步为25的滑动窗口\n",
    "window_size = 25\n",
    "num_samples = len(data) - window_size + 1\n",
    "\n",
    "X_samples = []\n",
    "Y_samples = []\n",
    "\n",
    "for i in range(num_samples):\n",
    "    X_sample = data.iloc[i:i + window_size][['X1', 'X2', 'X3']].values\n",
    "    Y_sample = data.iloc[i + window_size - 1]['Y']\n",
    "    X_samples.append(X_sample)\n",
    "    Y_samples.append(Y_sample)\n",
    "\n",
    "X_samples = np.array(X_samples)\n",
    "Y_samples = np.array(Y_samples)\n",
    "\n",
    "\n",
    "\n",
    "# 现在X_samples和Y_samples包含了时间步为25的样本数据\n",
    "# X_samples的形状为(num_samples, 25, num_features)，Y_samples的形状为(num_samples,)\n",
    "\n",
    "# 4. 划分训练集和测试集（可选）\n",
    "# 如果您需要划分训练集和测试集，请使用train_test_split函数\n",
    "\n"
   ]
  },
  {
   "cell_type": "code",
   "execution_count": 17,
   "id": "69652270",
   "metadata": {
    "ExecuteTime": {
     "end_time": "2024-04-04T15:17:11.611605Z",
     "start_time": "2024-04-04T15:17:11.607390Z"
    }
   },
   "outputs": [
    {
     "name": "stdout",
     "output_type": "stream",
     "text": [
      "X_samples.shape (476, 25, 3)\n",
      "Y_samples.shape (476,)\n"
     ]
    }
   ],
   "source": [
    "print('X_samples.shape',X_samples.shape)\n",
    "print('Y_samples.shape',Y_samples.shape)\n"
   ]
  },
  {
   "cell_type": "code",
   "execution_count": 15,
   "id": "e0950b02",
   "metadata": {
    "ExecuteTime": {
     "end_time": "2024-04-04T15:15:41.915923Z",
     "start_time": "2024-04-04T15:15:41.904963Z"
    }
   },
   "outputs": [
    {
     "data": {
      "text/plain": [
       "(380, 25, 3)"
      ]
     },
     "execution_count": 15,
     "metadata": {},
     "output_type": "execute_result"
    }
   ],
   "source": [
    "X_train,X_val,y_train,y_val = train_test_split(X_samples,\n",
    "                                               Y_samples,test_size=0.2,\n",
    "                                               shuffle=False)\n",
    "X_train.shape\n"
   ]
  },
  {
   "cell_type": "code",
   "execution_count": null,
   "id": "c7f10bec",
   "metadata": {},
   "outputs": [],
   "source": [
    "import torch\n",
    "import torch.nn as nn\n",
    "\n",
    "# 定义循环神经网络模型\n",
    "class RNN(nn.Module):\n",
    "    def __init__(self, input_size, hidden_size, output_size):\n",
    "        super(RNN, self).__init__()\n",
    "        self.hidden_size = hidden_size\n",
    "        self.rnn = nn.RNN(input_size, hidden_size, batch_first=True)\n",
    "        self.fc = nn.Linear(hidden_size, output_size)\n",
    "\n",
    "    def forward(self, x):\n",
    "        # 初始化隐藏状态\n",
    "        h0 = torch.zeros(1, x.size(0), self.hidden_size)\n",
    "        # 前向传播 RNN\n",
    "        out, _ = self.rnn(x, h0)\n",
    "        # 取最后一个时间步\n",
    "        out = out[:, -1, :]\n",
    "        # 通过全连接层\n",
    "        out = self.fc(out)\n",
    "        return out\n",
    "\n",
    "# 实例化模型\n",
    "input_size = 3  # 特征 X1, X2, X3\n",
    "hidden_size = 50\n",
    "output_size = 1  # 预测 Y\n",
    "model = RNN(input_size, hidden_size, output_size)\n"
   ]
  }
 ],
 "metadata": {
  "kernelspec": {
   "display_name": "Python 3 (ipykernel)",
   "language": "python",
   "name": "python3"
  },
  "language_info": {
   "codemirror_mode": {
    "name": "ipython",
    "version": 3
   },
   "file_extension": ".py",
   "mimetype": "text/x-python",
   "name": "python",
   "nbconvert_exporter": "python",
   "pygments_lexer": "ipython3",
   "version": "3.9.15"
  },
  "toc": {
   "base_numbering": 1,
   "nav_menu": {},
   "number_sections": true,
   "sideBar": true,
   "skip_h1_title": false,
   "title_cell": "Table of Contents",
   "title_sidebar": "Contents",
   "toc_cell": false,
   "toc_position": {},
   "toc_section_display": true,
   "toc_window_display": false
  }
 },
 "nbformat": 4,
 "nbformat_minor": 5
}
