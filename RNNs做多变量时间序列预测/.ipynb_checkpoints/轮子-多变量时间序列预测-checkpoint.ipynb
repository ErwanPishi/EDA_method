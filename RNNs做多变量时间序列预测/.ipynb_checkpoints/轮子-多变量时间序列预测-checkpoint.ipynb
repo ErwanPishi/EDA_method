{
 "cells": [
  {
   "cell_type": "code",
   "execution_count": 1,
   "id": "6cd2be18",
   "metadata": {
    "ExecuteTime": {
     "end_time": "2024-04-06T13:18:56.286902Z",
     "start_time": "2024-04-06T13:18:54.265352Z"
    }
   },
   "outputs": [],
   "source": [
    "import pandas as pd\n",
    "import numpy as np\n",
    "from sklearn.metrics import mean_squared_error\n",
    "from sklearn.preprocessing import LabelEncoder\n",
    "from sklearn.model_selection import train_test_split\n",
    "import torch\n",
    "from torch import nn\n",
    "from torch.utils.data import DataLoader, TensorDataset\n",
    "from tqdm import tqdm\n",
    "from datetime import date, timedelta\n",
    "\n",
    "import warnings\n",
    "warnings.filterwarnings('ignore')"
   ]
  },
  {
   "cell_type": "code",
   "execution_count": 2,
   "id": "65bebad7",
   "metadata": {
    "ExecuteTime": {
     "end_time": "2024-04-06T13:18:58.127946Z",
     "start_time": "2024-04-06T13:18:58.097377Z"
    }
   },
   "outputs": [
    {
     "data": {
      "text/html": [
       "<div>\n",
       "<style scoped>\n",
       "    .dataframe tbody tr th:only-of-type {\n",
       "        vertical-align: middle;\n",
       "    }\n",
       "\n",
       "    .dataframe tbody tr th {\n",
       "        vertical-align: top;\n",
       "    }\n",
       "\n",
       "    .dataframe thead th {\n",
       "        text-align: right;\n",
       "    }\n",
       "</style>\n",
       "<table border=\"1\" class=\"dataframe\">\n",
       "  <thead>\n",
       "    <tr style=\"text-align: right;\">\n",
       "      <th></th>\n",
       "      <th>X1</th>\n",
       "      <th>X2</th>\n",
       "      <th>X3</th>\n",
       "      <th>Y</th>\n",
       "    </tr>\n",
       "  </thead>\n",
       "  <tbody>\n",
       "    <tr>\n",
       "      <th>count</th>\n",
       "      <td>500.000000</td>\n",
       "      <td>500.00000</td>\n",
       "      <td>500.000000</td>\n",
       "      <td>5.000000e+02</td>\n",
       "    </tr>\n",
       "    <tr>\n",
       "      <th>mean</th>\n",
       "      <td>-249.500000</td>\n",
       "      <td>14.50200</td>\n",
       "      <td>-0.023116</td>\n",
       "      <td>5.684342e-17</td>\n",
       "    </tr>\n",
       "    <tr>\n",
       "      <th>std</th>\n",
       "      <td>144.481833</td>\n",
       "      <td>2.78091</td>\n",
       "      <td>1.059526</td>\n",
       "      <td>7.071068e-01</td>\n",
       "    </tr>\n",
       "    <tr>\n",
       "      <th>min</th>\n",
       "      <td>-499.000000</td>\n",
       "      <td>10.00000</td>\n",
       "      <td>-3.266664</td>\n",
       "      <td>-9.999950e-01</td>\n",
       "    </tr>\n",
       "    <tr>\n",
       "      <th>25%</th>\n",
       "      <td>-374.250000</td>\n",
       "      <td>12.00000</td>\n",
       "      <td>-0.777546</td>\n",
       "      <td>-7.048748e-01</td>\n",
       "    </tr>\n",
       "    <tr>\n",
       "      <th>50%</th>\n",
       "      <td>-249.500000</td>\n",
       "      <td>14.00000</td>\n",
       "      <td>-0.057613</td>\n",
       "      <td>-1.224647e-16</td>\n",
       "    </tr>\n",
       "    <tr>\n",
       "      <th>75%</th>\n",
       "      <td>-124.750000</td>\n",
       "      <td>17.00000</td>\n",
       "      <td>0.719547</td>\n",
       "      <td>7.048748e-01</td>\n",
       "    </tr>\n",
       "    <tr>\n",
       "      <th>max</th>\n",
       "      <td>0.000000</td>\n",
       "      <td>19.00000</td>\n",
       "      <td>3.401603</td>\n",
       "      <td>9.999950e-01</td>\n",
       "    </tr>\n",
       "  </tbody>\n",
       "</table>\n",
       "</div>"
      ],
      "text/plain": [
       "               X1         X2          X3             Y\n",
       "count  500.000000  500.00000  500.000000  5.000000e+02\n",
       "mean  -249.500000   14.50200   -0.023116  5.684342e-17\n",
       "std    144.481833    2.78091    1.059526  7.071068e-01\n",
       "min   -499.000000   10.00000   -3.266664 -9.999950e-01\n",
       "25%   -374.250000   12.00000   -0.777546 -7.048748e-01\n",
       "50%   -249.500000   14.00000   -0.057613 -1.224647e-16\n",
       "75%   -124.750000   17.00000    0.719547  7.048748e-01\n",
       "max      0.000000   19.00000    3.401603  9.999950e-01"
      ]
     },
     "execution_count": 2,
     "metadata": {},
     "output_type": "execute_result"
    }
   ],
   "source": [
    "data = pd.DataFrame({'X1':[-i for i in range(500)],\n",
    "                  'X2':np.random.randint(low=10,high=20,size=500),\n",
    "                  'X3':np.random.normal(size=500),\n",
    "                  'Y':np.sin(np.linspace(0, 2*np.pi, 500))})\n",
    "data.describe()"
   ]
  },
  {
   "cell_type": "code",
   "execution_count": 5,
   "id": "8341fb01",
   "metadata": {
    "ExecuteTime": {
     "end_time": "2024-04-06T13:19:17.119294Z",
     "start_time": "2024-04-06T13:19:17.097525Z"
    }
   },
   "outputs": [
    {
     "data": {
      "text/html": [
       "<div>\n",
       "<style scoped>\n",
       "    .dataframe tbody tr th:only-of-type {\n",
       "        vertical-align: middle;\n",
       "    }\n",
       "\n",
       "    .dataframe tbody tr th {\n",
       "        vertical-align: top;\n",
       "    }\n",
       "\n",
       "    .dataframe thead th {\n",
       "        text-align: right;\n",
       "    }\n",
       "</style>\n",
       "<table border=\"1\" class=\"dataframe\">\n",
       "  <thead>\n",
       "    <tr style=\"text-align: right;\">\n",
       "      <th></th>\n",
       "      <th>X1</th>\n",
       "      <th>X2</th>\n",
       "      <th>X3</th>\n",
       "      <th>Y</th>\n",
       "    </tr>\n",
       "  </thead>\n",
       "  <tbody>\n",
       "    <tr>\n",
       "      <th>count</th>\n",
       "      <td>500.000000</td>\n",
       "      <td>500.000000</td>\n",
       "      <td>500.000000</td>\n",
       "      <td>5.000000e+02</td>\n",
       "    </tr>\n",
       "    <tr>\n",
       "      <th>mean</th>\n",
       "      <td>3.141593</td>\n",
       "      <td>1.670204</td>\n",
       "      <td>13.172658</td>\n",
       "      <td>5.684342e-17</td>\n",
       "    </tr>\n",
       "    <tr>\n",
       "      <th>std</th>\n",
       "      <td>1.819251</td>\n",
       "      <td>0.593900</td>\n",
       "      <td>11.807040</td>\n",
       "      <td>7.071068e-01</td>\n",
       "    </tr>\n",
       "    <tr>\n",
       "      <th>min</th>\n",
       "      <td>0.000000</td>\n",
       "      <td>0.000000</td>\n",
       "      <td>0.000000</td>\n",
       "      <td>-9.999950e-01</td>\n",
       "    </tr>\n",
       "    <tr>\n",
       "      <th>25%</th>\n",
       "      <td>1.570796</td>\n",
       "      <td>1.253312</td>\n",
       "      <td>2.467431</td>\n",
       "      <td>-7.048748e-01</td>\n",
       "    </tr>\n",
       "    <tr>\n",
       "      <th>50%</th>\n",
       "      <td>3.141593</td>\n",
       "      <td>1.772453</td>\n",
       "      <td>9.869644</td>\n",
       "      <td>-1.224647e-16</td>\n",
       "    </tr>\n",
       "    <tr>\n",
       "      <th>75%</th>\n",
       "      <td>4.712389</td>\n",
       "      <td>2.170803</td>\n",
       "      <td>22.206640</td>\n",
       "      <td>7.048748e-01</td>\n",
       "    </tr>\n",
       "    <tr>\n",
       "      <th>max</th>\n",
       "      <td>6.283185</td>\n",
       "      <td>2.506628</td>\n",
       "      <td>39.478418</td>\n",
       "      <td>9.999950e-01</td>\n",
       "    </tr>\n",
       "  </tbody>\n",
       "</table>\n",
       "</div>"
      ],
      "text/plain": [
       "               X1          X2          X3             Y\n",
       "count  500.000000  500.000000  500.000000  5.000000e+02\n",
       "mean     3.141593    1.670204   13.172658  5.684342e-17\n",
       "std      1.819251    0.593900   11.807040  7.071068e-01\n",
       "min      0.000000    0.000000    0.000000 -9.999950e-01\n",
       "25%      1.570796    1.253312    2.467431 -7.048748e-01\n",
       "50%      3.141593    1.772453    9.869644 -1.224647e-16\n",
       "75%      4.712389    2.170803   22.206640  7.048748e-01\n",
       "max      6.283185    2.506628   39.478418  9.999950e-01"
      ]
     },
     "execution_count": 5,
     "metadata": {},
     "output_type": "execute_result"
    }
   ],
   "source": [
    "X = np.linspace(0, 2*np.pi, 500)\n",
    "data = pd.DataFrame({'X1':X,\n",
    "                  'X2':np.sqrt(X),\n",
    "                  'X3':X**2,\n",
    "                  'Y':np.sin(X)})\n",
    "data.describe()"
   ]
  },
  {
   "cell_type": "code",
   "execution_count": 6,
   "id": "a4899e7e",
   "metadata": {
    "ExecuteTime": {
     "end_time": "2024-04-06T13:19:29.180075Z",
     "start_time": "2024-04-06T13:19:28.981540Z"
    }
   },
   "outputs": [
    {
     "data": {
      "text/plain": [
       "<Axes: >"
      ]
     },
     "execution_count": 6,
     "metadata": {},
     "output_type": "execute_result"
    },
    {
     "data": {
      "image/png": "[encoded data removed]",
      "text/plain": [
       "<Figure size 640x480 with 1 Axes>"
      ]
     },
     "metadata": {},
     "output_type": "display_data"
    }
   ],
   "source": [
    "data.plot()"
   ]
  },
  {
   "cell_type": "markdown",
   "id": "912d5483",
   "metadata": {},
   "source": [
    "### query查询用法"
   ]
  },
  {
   "cell_type": "code",
   "execution_count": 7,
   "id": "fa159b86",
   "metadata": {
    "ExecuteTime": {
     "end_time": "2024-04-06T13:20:14.212200Z",
     "start_time": "2024-04-06T13:20:14.196299Z"
    }
   },
   "outputs": [
    {
     "data": {
      "text/html": [
       "<div>\n",
       "<style scoped>\n",
       "    .dataframe tbody tr th:only-of-type {\n",
       "        vertical-align: middle;\n",
       "    }\n",
       "\n",
       "    .dataframe tbody tr th {\n",
       "        vertical-align: top;\n",
       "    }\n",
       "\n",
       "    .dataframe thead th {\n",
       "        text-align: right;\n",
       "    }\n",
       "</style>\n",
       "<table border=\"1\" class=\"dataframe\">\n",
       "  <thead>\n",
       "    <tr style=\"text-align: right;\">\n",
       "      <th></th>\n",
       "      <th>X1</th>\n",
       "      <th>X2</th>\n",
       "      <th>X3</th>\n",
       "      <th>Y</th>\n",
       "    </tr>\n",
       "  </thead>\n",
       "  <tbody>\n",
       "    <tr>\n",
       "      <th>24</th>\n",
       "      <td>0.302197</td>\n",
       "      <td>0.549725</td>\n",
       "      <td>0.091323</td>\n",
       "      <td>0.297619</td>\n",
       "    </tr>\n",
       "  </tbody>\n",
       "</table>\n",
       "</div>"
      ],
      "text/plain": [
       "          X1        X2        X3         Y\n",
       "24  0.302197  0.549725  0.091323  0.297619"
      ]
     },
     "execution_count": 7,
     "metadata": {},
     "output_type": "execute_result"
    }
   ],
   "source": [
    "window_size = 25\n",
    "e = data.iloc[0 + window_size - 1]['Y']\n",
    "data.query('Y==@e')"
   ]
  },
  {
   "cell_type": "code",
   "execution_count": 8,
   "id": "2ad51c64",
   "metadata": {
    "ExecuteTime": {
     "end_time": "2024-04-06T13:20:18.039785Z",
     "start_time": "2024-04-06T13:20:18.022826Z"
    }
   },
   "outputs": [
    {
     "data": {
      "text/html": [
       "<div>\n",
       "<style scoped>\n",
       "    .dataframe tbody tr th:only-of-type {\n",
       "        vertical-align: middle;\n",
       "    }\n",
       "\n",
       "    .dataframe tbody tr th {\n",
       "        vertical-align: top;\n",
       "    }\n",
       "\n",
       "    .dataframe thead th {\n",
       "        text-align: right;\n",
       "    }\n",
       "</style>\n",
       "<table border=\"1\" class=\"dataframe\">\n",
       "  <thead>\n",
       "    <tr style=\"text-align: right;\">\n",
       "      <th></th>\n",
       "      <th>X1</th>\n",
       "      <th>X2</th>\n",
       "      <th>X3</th>\n",
       "    </tr>\n",
       "  </thead>\n",
       "  <tbody>\n",
       "    <tr>\n",
       "      <th>0</th>\n",
       "      <td>0.000000</td>\n",
       "      <td>0.000000</td>\n",
       "      <td>0.000000</td>\n",
       "    </tr>\n",
       "    <tr>\n",
       "      <th>1</th>\n",
       "      <td>0.012592</td>\n",
       "      <td>0.112212</td>\n",
       "      <td>0.000159</td>\n",
       "    </tr>\n",
       "    <tr>\n",
       "      <th>2</th>\n",
       "      <td>0.025183</td>\n",
       "      <td>0.158692</td>\n",
       "      <td>0.000634</td>\n",
       "    </tr>\n",
       "    <tr>\n",
       "      <th>3</th>\n",
       "      <td>0.037775</td>\n",
       "      <td>0.194357</td>\n",
       "      <td>0.001427</td>\n",
       "    </tr>\n",
       "    <tr>\n",
       "      <th>4</th>\n",
       "      <td>0.050366</td>\n",
       "      <td>0.224424</td>\n",
       "      <td>0.002537</td>\n",
       "    </tr>\n",
       "    <tr>\n",
       "      <th>5</th>\n",
       "      <td>0.062958</td>\n",
       "      <td>0.250914</td>\n",
       "      <td>0.003964</td>\n",
       "    </tr>\n",
       "    <tr>\n",
       "      <th>6</th>\n",
       "      <td>0.075549</td>\n",
       "      <td>0.274862</td>\n",
       "      <td>0.005708</td>\n",
       "    </tr>\n",
       "    <tr>\n",
       "      <th>7</th>\n",
       "      <td>0.088141</td>\n",
       "      <td>0.296885</td>\n",
       "      <td>0.007769</td>\n",
       "    </tr>\n",
       "    <tr>\n",
       "      <th>8</th>\n",
       "      <td>0.100732</td>\n",
       "      <td>0.317384</td>\n",
       "      <td>0.010147</td>\n",
       "    </tr>\n",
       "    <tr>\n",
       "      <th>9</th>\n",
       "      <td>0.113324</td>\n",
       "      <td>0.336636</td>\n",
       "      <td>0.012842</td>\n",
       "    </tr>\n",
       "    <tr>\n",
       "      <th>10</th>\n",
       "      <td>0.125916</td>\n",
       "      <td>0.354846</td>\n",
       "      <td>0.015855</td>\n",
       "    </tr>\n",
       "    <tr>\n",
       "      <th>11</th>\n",
       "      <td>0.138507</td>\n",
       "      <td>0.372165</td>\n",
       "      <td>0.019184</td>\n",
       "    </tr>\n",
       "    <tr>\n",
       "      <th>12</th>\n",
       "      <td>0.151099</td>\n",
       "      <td>0.388714</td>\n",
       "      <td>0.022831</td>\n",
       "    </tr>\n",
       "    <tr>\n",
       "      <th>13</th>\n",
       "      <td>0.163690</td>\n",
       "      <td>0.404586</td>\n",
       "      <td>0.026794</td>\n",
       "    </tr>\n",
       "    <tr>\n",
       "      <th>14</th>\n",
       "      <td>0.176282</td>\n",
       "      <td>0.419859</td>\n",
       "      <td>0.031075</td>\n",
       "    </tr>\n",
       "    <tr>\n",
       "      <th>15</th>\n",
       "      <td>0.188873</td>\n",
       "      <td>0.434596</td>\n",
       "      <td>0.035673</td>\n",
       "    </tr>\n",
       "    <tr>\n",
       "      <th>16</th>\n",
       "      <td>0.201465</td>\n",
       "      <td>0.448848</td>\n",
       "      <td>0.040588</td>\n",
       "    </tr>\n",
       "    <tr>\n",
       "      <th>17</th>\n",
       "      <td>0.214056</td>\n",
       "      <td>0.462662</td>\n",
       "      <td>0.045820</td>\n",
       "    </tr>\n",
       "    <tr>\n",
       "      <th>18</th>\n",
       "      <td>0.226648</td>\n",
       "      <td>0.476076</td>\n",
       "      <td>0.051369</td>\n",
       "    </tr>\n",
       "    <tr>\n",
       "      <th>19</th>\n",
       "      <td>0.239240</td>\n",
       "      <td>0.489121</td>\n",
       "      <td>0.057236</td>\n",
       "    </tr>\n",
       "    <tr>\n",
       "      <th>20</th>\n",
       "      <td>0.251831</td>\n",
       "      <td>0.501828</td>\n",
       "      <td>0.063419</td>\n",
       "    </tr>\n",
       "    <tr>\n",
       "      <th>21</th>\n",
       "      <td>0.264423</td>\n",
       "      <td>0.514220</td>\n",
       "      <td>0.069919</td>\n",
       "    </tr>\n",
       "    <tr>\n",
       "      <th>22</th>\n",
       "      <td>0.277014</td>\n",
       "      <td>0.526321</td>\n",
       "      <td>0.076737</td>\n",
       "    </tr>\n",
       "    <tr>\n",
       "      <th>23</th>\n",
       "      <td>0.289606</td>\n",
       "      <td>0.538150</td>\n",
       "      <td>0.083871</td>\n",
       "    </tr>\n",
       "    <tr>\n",
       "      <th>24</th>\n",
       "      <td>0.302197</td>\n",
       "      <td>0.549725</td>\n",
       "      <td>0.091323</td>\n",
       "    </tr>\n",
       "  </tbody>\n",
       "</table>\n",
       "</div>"
      ],
      "text/plain": [
       "          X1        X2        X3\n",
       "0   0.000000  0.000000  0.000000\n",
       "1   0.012592  0.112212  0.000159\n",
       "2   0.025183  0.158692  0.000634\n",
       "3   0.037775  0.194357  0.001427\n",
       "4   0.050366  0.224424  0.002537\n",
       "5   0.062958  0.250914  0.003964\n",
       "6   0.075549  0.274862  0.005708\n",
       "7   0.088141  0.296885  0.007769\n",
       "8   0.100732  0.317384  0.010147\n",
       "9   0.113324  0.336636  0.012842\n",
       "10  0.125916  0.354846  0.015855\n",
       "11  0.138507  0.372165  0.019184\n",
       "12  0.151099  0.388714  0.022831\n",
       "13  0.163690  0.404586  0.026794\n",
       "14  0.176282  0.419859  0.031075\n",
       "15  0.188873  0.434596  0.035673\n",
       "16  0.201465  0.448848  0.040588\n",
       "17  0.214056  0.462662  0.045820\n",
       "18  0.226648  0.476076  0.051369\n",
       "19  0.239240  0.489121  0.057236\n",
       "20  0.251831  0.501828  0.063419\n",
       "21  0.264423  0.514220  0.069919\n",
       "22  0.277014  0.526321  0.076737\n",
       "23  0.289606  0.538150  0.083871\n",
       "24  0.302197  0.549725  0.091323"
      ]
     },
     "execution_count": 8,
     "metadata": {},
     "output_type": "execute_result"
    }
   ],
   "source": [
    "data.iloc[0:0 + window_size][['X1','X2','X3']]"
   ]
  },
  {
   "cell_type": "markdown",
   "id": "64d5ba4c",
   "metadata": {},
   "source": [
    "### 创建时间步为25的滑动窗口，注意这里是包含了当天的特征"
   ]
  },
  {
   "cell_type": "code",
   "execution_count": 31,
   "id": "115d4fa7",
   "metadata": {
    "ExecuteTime": {
     "end_time": "2024-04-06T13:25:38.207431Z",
     "start_time": "2024-04-06T13:25:38.097443Z"
    }
   },
   "outputs": [],
   "source": [
    "window_size = 1\n",
    "batch_size = 16\n",
    "num_samples = len(data) - window_size + 1\n",
    "\n",
    "X_samples = []\n",
    "Y_samples = []\n",
    "\n",
    "for i in range(num_samples):\n",
    "    X_sample = data.iloc[i:i + window_size][['X1', 'X2', 'X3']].values #区间=[i,i+25)  一共25天\n",
    "    Y_sample = data.iloc[i + window_size - 1]['Y']  #第i+25-1个，注意从0开始计数，其实就是25天的最后一天\n",
    "    X_samples.append(X_sample)\n",
    "    Y_samples.append(Y_sample)\n",
    "\n",
    "X_samples = np.array(X_samples)\n",
    "Y_samples = np.array(Y_samples)\n",
    "\n",
    "# 现在X_samples和Y_samples包含了时间步为25的样本数据\n",
    "# X_samples的形状为(num_samples, 25, num_features)，Y_samples的形状为(num_samples,)\n",
    "\n",
    "# 4. 划分训练集和测试集（可选）\n",
    "# 如果您需要划分训练集和测试集，请使用train_test_split函数\n"
   ]
  },
  {
   "cell_type": "code",
   "execution_count": 32,
   "id": "69652270",
   "metadata": {
    "ExecuteTime": {
     "end_time": "2024-04-06T13:25:42.934979Z",
     "start_time": "2024-04-06T13:25:42.931510Z"
    }
   },
   "outputs": [
    {
     "name": "stdout",
     "output_type": "stream",
     "text": [
      "X_samples.shape (500, 1, 3)\n",
      "Y_samples.shape (500,)\n"
     ]
    }
   ],
   "source": [
    "print('X_samples.shape',X_samples.shape)\n",
    "print('Y_samples.shape',Y_samples.shape)"
   ]
  },
  {
   "cell_type": "code",
   "execution_count": 33,
   "id": "e0950b02",
   "metadata": {
    "ExecuteTime": {
     "end_time": "2024-04-06T13:25:45.098761Z",
     "start_time": "2024-04-06T13:25:45.092435Z"
    }
   },
   "outputs": [
    {
     "data": {
      "text/plain": [
       "(400, 1, 3)"
      ]
     },
     "execution_count": 33,
     "metadata": {},
     "output_type": "execute_result"
    }
   ],
   "source": [
    "X_train,X_val,y_train,y_val = train_test_split(X_samples,\n",
    "                                               Y_samples,test_size=0.2,\n",
    "                                               shuffle=False)\n",
    "X_train.shape"
   ]
  },
  {
   "cell_type": "code",
   "execution_count": 34,
   "id": "d1db74e9",
   "metadata": {
    "ExecuteTime": {
     "end_time": "2024-04-06T13:25:47.570342Z",
     "start_time": "2024-04-06T13:25:47.564861Z"
    }
   },
   "outputs": [
    {
     "data": {
      "text/plain": [
       "(400, 96)"
      ]
     },
     "execution_count": 34,
     "metadata": {},
     "output_type": "execute_result"
    }
   ],
   "source": [
    "train_size = (len(X_train) // batch_size) * batch_size \n",
    "val_size = (len(X_val) // batch_size) * batch_size\n",
    "train_size,val_size\n"
   ]
  },
  {
   "cell_type": "code",
   "execution_count": 35,
   "id": "472b9c9f",
   "metadata": {
    "ExecuteTime": {
     "end_time": "2024-04-06T13:25:49.575760Z",
     "start_time": "2024-04-06T13:25:49.569300Z"
    }
   },
   "outputs": [
    {
     "data": {
      "text/plain": [
       "((400, 1, 3), (400,))"
      ]
     },
     "execution_count": 35,
     "metadata": {},
     "output_type": "execute_result"
    }
   ],
   "source": [
    "X_train, y_train = X_train[len(X_train)-train_size:len(X_train)], y_train[len(X_train)-train_size:len(X_train)]\n",
    "X_val, y_val = X_val[:val_size], y_val[:val_size]\n",
    "\n",
    "X_train.shape,y_train.shape"
   ]
  },
  {
   "cell_type": "code",
   "execution_count": 36,
   "id": "6888cb59",
   "metadata": {
    "ExecuteTime": {
     "end_time": "2024-04-06T13:25:51.715464Z",
     "start_time": "2024-04-06T13:25:51.707978Z"
    }
   },
   "outputs": [
    {
     "data": {
      "text/plain": [
       "torch.Size([400, 1, 3])"
      ]
     },
     "execution_count": 36,
     "metadata": {},
     "output_type": "execute_result"
    }
   ],
   "source": [
    "X_train = torch.from_numpy(X_train).float()\n",
    "y_train = torch.from_numpy(y_train).float()\n",
    "\n",
    "X_val = torch.from_numpy(X_val).float()\n",
    "y_val = torch.from_numpy(y_val).float()\n",
    "\n",
    "X_train.shape"
   ]
  },
  {
   "cell_type": "code",
   "execution_count": null,
   "id": "c4b03f08",
   "metadata": {
    "ExecuteTime": {
     "end_time": "2024-04-06T09:56:39.439735Z",
     "start_time": "2024-04-06T09:56:39.385632Z"
    }
   },
   "outputs": [],
   "source": [
    "TensorDataset?"
   ]
  },
  {
   "cell_type": "code",
   "execution_count": null,
   "id": "0bcc473f",
   "metadata": {
    "ExecuteTime": {
     "end_time": "2024-04-06T09:57:50.242892Z",
     "start_time": "2024-04-06T09:57:50.231381Z"
    }
   },
   "outputs": [],
   "source": [
    "DataLoader?"
   ]
  },
  {
   "cell_type": "markdown",
   "id": "dbce8b5e",
   "metadata": {},
   "source": [
    "### batch转换器"
   ]
  },
  {
   "cell_type": "code",
   "execution_count": 37,
   "id": "1b04e398",
   "metadata": {
    "ExecuteTime": {
     "end_time": "2024-04-06T13:25:55.370805Z",
     "start_time": "2024-04-06T13:25:55.366423Z"
    }
   },
   "outputs": [],
   "source": [
    "batch_size = 16\n",
    "\n",
    "train_data = TensorDataset(X_train, y_train)\n",
    "train_loader = DataLoader(train_data, shuffle=False, batch_size=batch_size)\n",
    "\n",
    "val_data = TensorDataset(X_val, y_val)\n",
    "val_loader = DataLoader(val_data, shuffle=False, batch_size=batch_size)\n"
   ]
  },
  {
   "cell_type": "code",
   "execution_count": null,
   "id": "ab34eb52",
   "metadata": {
    "ExecuteTime": {
     "end_time": "2024-04-06T10:42:47.468891Z",
     "start_time": "2024-04-06T10:42:47.462889Z"
    }
   },
   "outputs": [],
   "source": [
    "nn.RNN?"
   ]
  },
  {
   "cell_type": "code",
   "execution_count": 16,
   "id": "e20ba5a6",
   "metadata": {
    "ExecuteTime": {
     "end_time": "2024-04-06T13:20:49.716867Z",
     "start_time": "2024-04-06T13:20:49.688437Z"
    },
    "collapsed": true
   },
   "outputs": [
    {
     "name": "stdout",
     "output_type": "stream",
     "text": [
      "1 torch.Size([25, 3]) tensor(-0.9307)\n",
      "2 torch.Size([25, 3]) tensor(-0.9260)\n",
      "3 torch.Size([25, 3]) tensor(-0.9211)\n",
      "4 torch.Size([25, 3]) tensor(-0.9162)\n",
      "5 torch.Size([25, 3]) tensor(-0.9111)\n",
      "6 torch.Size([25, 3]) tensor(-0.9058)\n",
      "7 torch.Size([25, 3]) tensor(-0.9004)\n",
      "8 torch.Size([25, 3]) tensor(-0.8948)\n",
      "9 torch.Size([25, 3]) tensor(-0.8891)\n",
      "10 torch.Size([25, 3]) tensor(-0.8833)\n",
      "11 torch.Size([25, 3]) tensor(-0.8773)\n",
      "12 torch.Size([25, 3]) tensor(-0.8712)\n",
      "13 torch.Size([25, 3]) tensor(-0.8650)\n",
      "14 torch.Size([25, 3]) tensor(-0.8586)\n",
      "15 torch.Size([25, 3]) tensor(-0.8521)\n",
      "16 torch.Size([25, 3]) tensor(-0.8454)\n",
      "17 torch.Size([25, 3]) tensor(-0.8386)\n",
      "18 torch.Size([25, 3]) tensor(-0.8317)\n",
      "19 torch.Size([25, 3]) tensor(-0.8246)\n",
      "20 torch.Size([25, 3]) tensor(-0.8174)\n",
      "21 torch.Size([25, 3]) tensor(-0.8101)\n",
      "22 torch.Size([25, 3]) tensor(-0.8027)\n",
      "23 torch.Size([25, 3]) tensor(-0.7951)\n",
      "24 torch.Size([25, 3]) tensor(-0.7874)\n",
      "25 torch.Size([25, 3]) tensor(-0.7796)\n",
      "26 torch.Size([25, 3]) tensor(-0.7716)\n",
      "27 torch.Size([25, 3]) tensor(-0.7636)\n",
      "28 torch.Size([25, 3]) tensor(-0.7554)\n",
      "29 torch.Size([25, 3]) tensor(-0.7471)\n",
      "30 torch.Size([25, 3]) tensor(-0.7386)\n",
      "31 torch.Size([25, 3]) tensor(-0.7301)\n",
      "32 torch.Size([25, 3]) tensor(-0.7214)\n",
      "33 torch.Size([25, 3]) tensor(-0.7126)\n",
      "34 torch.Size([25, 3]) tensor(-0.7038)\n",
      "35 torch.Size([25, 3]) tensor(-0.6948)\n",
      "36 torch.Size([25, 3]) tensor(-0.6856)\n",
      "37 torch.Size([25, 3]) tensor(-0.6764)\n",
      "38 torch.Size([25, 3]) tensor(-0.6671)\n",
      "39 torch.Size([25, 3]) tensor(-0.6577)\n",
      "40 torch.Size([25, 3]) tensor(-0.6481)\n",
      "41 torch.Size([25, 3]) tensor(-0.6385)\n",
      "42 torch.Size([25, 3]) tensor(-0.6287)\n",
      "43 torch.Size([25, 3]) tensor(-0.6189)\n",
      "44 torch.Size([25, 3]) tensor(-0.6090)\n",
      "45 torch.Size([25, 3]) tensor(-0.5989)\n",
      "46 torch.Size([25, 3]) tensor(-0.5888)\n",
      "47 torch.Size([25, 3]) tensor(-0.5786)\n",
      "48 torch.Size([25, 3]) tensor(-0.5683)\n",
      "49 torch.Size([25, 3]) tensor(-0.5579)\n",
      "50 torch.Size([25, 3]) tensor(-0.5474)\n",
      "51 torch.Size([25, 3]) tensor(-0.5368)\n",
      "52 torch.Size([25, 3]) tensor(-0.5261)\n",
      "53 torch.Size([25, 3]) tensor(-0.5154)\n",
      "54 torch.Size([25, 3]) tensor(-0.5045)\n",
      "55 torch.Size([25, 3]) tensor(-0.4936)\n",
      "56 torch.Size([25, 3]) tensor(-0.4826)\n",
      "57 torch.Size([25, 3]) tensor(-0.4716)\n",
      "58 torch.Size([25, 3]) tensor(-0.4604)\n",
      "59 torch.Size([25, 3]) tensor(-0.4492)\n",
      "60 torch.Size([25, 3]) tensor(-0.4379)\n",
      "61 torch.Size([25, 3]) tensor(-0.4266)\n",
      "62 torch.Size([25, 3]) tensor(-0.4152)\n",
      "63 torch.Size([25, 3]) tensor(-0.4037)\n",
      "64 torch.Size([25, 3]) tensor(-0.3921)\n",
      "65 torch.Size([25, 3]) tensor(-0.3805)\n",
      "66 torch.Size([25, 3]) tensor(-0.3688)\n",
      "67 torch.Size([25, 3]) tensor(-0.3571)\n",
      "68 torch.Size([25, 3]) tensor(-0.3453)\n",
      "69 torch.Size([25, 3]) tensor(-0.3335)\n",
      "70 torch.Size([25, 3]) tensor(-0.3216)\n",
      "71 torch.Size([25, 3]) tensor(-0.3096)\n",
      "72 torch.Size([25, 3]) tensor(-0.2976)\n",
      "73 torch.Size([25, 3]) tensor(-0.2856)\n",
      "74 torch.Size([25, 3]) tensor(-0.2735)\n",
      "75 torch.Size([25, 3]) tensor(-0.2614)\n",
      "76 torch.Size([25, 3]) tensor(-0.2492)\n",
      "77 torch.Size([25, 3]) tensor(-0.2370)\n",
      "78 torch.Size([25, 3]) tensor(-0.2247)\n",
      "79 torch.Size([25, 3]) tensor(-0.2124)\n",
      "80 torch.Size([25, 3]) tensor(-0.2001)\n",
      "81 torch.Size([25, 3]) tensor(-0.1878)\n",
      "82 torch.Size([25, 3]) tensor(-0.1754)\n",
      "83 torch.Size([25, 3]) tensor(-0.1630)\n",
      "84 torch.Size([25, 3]) tensor(-0.1505)\n",
      "85 torch.Size([25, 3]) tensor(-0.1381)\n",
      "86 torch.Size([25, 3]) tensor(-0.1256)\n",
      "87 torch.Size([25, 3]) tensor(-0.1131)\n",
      "88 torch.Size([25, 3]) tensor(-0.1006)\n",
      "89 torch.Size([25, 3]) tensor(-0.0880)\n",
      "90 torch.Size([25, 3]) tensor(-0.0755)\n",
      "91 torch.Size([25, 3]) tensor(-0.0629)\n",
      "92 torch.Size([25, 3]) tensor(-0.0503)\n",
      "93 torch.Size([25, 3]) tensor(-0.0378)\n",
      "94 torch.Size([25, 3]) tensor(-0.0252)\n",
      "95 torch.Size([25, 3]) tensor(-0.0126)\n",
      "96 torch.Size([25, 3]) tensor(-2.4493e-16)\n"
     ]
    }
   ],
   "source": [
    "i = 0\n",
    "for X,y in val_data:\n",
    "    i+=1\n",
    "    print(i,X.shape,y)\n",
    "    "
   ]
  },
  {
   "cell_type": "markdown",
   "id": "6cd05f2e",
   "metadata": {},
   "source": [
    "### 定义循环神经网络模型"
   ]
  },
  {
   "cell_type": "code",
   "execution_count": null,
   "id": "942604cd",
   "metadata": {
    "ExecuteTime": {
     "end_time": "2024-04-06T13:01:16.742223Z",
     "start_time": "2024-04-06T13:01:16.734881Z"
    }
   },
   "outputs": [],
   "source": [
    "nn.RNN?"
   ]
  },
  {
   "cell_type": "code",
   "execution_count": 98,
   "id": "97ebfee3",
   "metadata": {
    "ExecuteTime": {
     "end_time": "2024-04-06T13:54:52.784422Z",
     "start_time": "2024-04-06T13:54:52.772128Z"
    }
   },
   "outputs": [],
   "source": [
    "class RNN(nn.Module):\n",
    "    def __init__(self, input_size, hidden_size, output_size, num_layers):\n",
    "        super(RNN, self).__init__()\n",
    "        self.hidden_size = hidden_size\n",
    "        self.num_layers = num_layers\n",
    "\n",
    "        self.rnn = nn.RNN(input_size, hidden_size, num_layers, batch_first=True)\n",
    "        self.fc = nn.Linear(hidden_size, output_size)\n",
    "\n",
    "    def forward(self, x):\n",
    "        h0 = torch.zeros(self.num_layers, x.size(0), self.hidden_size).to(x.device) \n",
    "        out, _ = self.rnn(x, h0)  \n",
    "        out = self.fc(out[:, -1, :]) \n",
    "        return out\n"
   ]
  },
  {
   "cell_type": "code",
   "execution_count": 100,
   "id": "dc283bdb",
   "metadata": {
    "ExecuteTime": {
     "end_time": "2024-04-06T13:55:15.017160Z",
     "start_time": "2024-04-06T13:55:15.009668Z"
    }
   },
   "outputs": [],
   "source": [
    "# 实例化模型\n",
    "model = RNN(input_size=3, hidden_size=32, output_size=1, num_layers=4)\n",
    "\n",
    "# 定义损失函数和优化器\n",
    "criterion = nn.MSELoss() \n",
    "optimizer = torch.optim.Adam(model.parameters(), lr=0.01)"
   ]
  },
  {
   "cell_type": "code",
   "execution_count": 101,
   "id": "ba744721",
   "metadata": {
    "ExecuteTime": {
     "end_time": "2024-04-06T13:55:38.330693Z",
     "start_time": "2024-04-06T13:55:17.671878Z"
    }
   },
   "outputs": [
    {
     "name": "stdout",
     "output_type": "stream",
     "text": [
      "Epoch [1/1000], Train Loss: 0.0002, Test Loss: 0.5542\n",
      "Epoch [101/1000], Train Loss: 1.2261, Test Loss: 0.0086\n",
      "Epoch [201/1000], Train Loss: 1.2292, Test Loss: 0.0085\n",
      "Epoch [301/1000], Train Loss: 1.2289, Test Loss: 0.0088\n",
      "Epoch [401/1000], Train Loss: 1.2289, Test Loss: 0.0088\n",
      "Epoch [501/1000], Train Loss: 1.2291, Test Loss: 0.0088\n",
      "Epoch [601/1000], Train Loss: 1.2291, Test Loss: 0.0088\n",
      "Epoch [701/1000], Train Loss: 1.2291, Test Loss: 0.0088\n",
      "Epoch [801/1000], Train Loss: 1.2291, Test Loss: 0.0088\n",
      "Epoch [901/1000], Train Loss: 1.2291, Test Loss: 0.0088\n"
     ]
    }
   ],
   "source": [
    "# 训练模型\n",
    "def train(model, train_loader, val_loader, num_epochs):\n",
    "    optimizer.zero_grad()\n",
    "    for epoch in range(num_epochs):\n",
    "        for i, (x, y) in enumerate(train_loader):\n",
    "            # 前向传播\n",
    "            outputs = model(x)\n",
    "            loss = criterion(outputs, y)\n",
    "            \n",
    "            # 反向传播和优化\n",
    "            optimizer.zero_grad()\n",
    "            loss.backward()\n",
    "            optimizer.step()\n",
    "            \n",
    "        # 在每个epoch后进行验证\n",
    "        with torch.no_grad():\n",
    "            for i, (x, y) in enumerate(val_loader):\n",
    "                outputs = model(x)\n",
    "                test_loss = criterion(outputs, y)\n",
    "        if epoch%100==0:        \n",
    "            print('Epoch [{}/{}], Train Loss: {:.4f}, Test Loss: {:.4f}'.format(epoch+1, num_epochs, loss.item(), test_loss.item()))\n",
    "\n",
    "train(model,train_loader,val_loader,1000)"
   ]
  },
  {
   "cell_type": "code",
   "execution_count": 64,
   "id": "1cca7c5f",
   "metadata": {
    "ExecuteTime": {
     "end_time": "2024-04-06T13:39:58.893686Z",
     "start_time": "2024-04-06T13:39:58.886865Z"
    }
   },
   "outputs": [],
   "source": [
    "pd.DataFrame?"
   ]
  },
  {
   "cell_type": "code",
   "execution_count": 84,
   "id": "6218805c",
   "metadata": {
    "ExecuteTime": {
     "end_time": "2024-04-06T13:47:48.417669Z",
     "start_time": "2024-04-06T13:47:48.409846Z"
    }
   },
   "outputs": [
    {
     "data": {
      "text/plain": [
       "(96, 2)"
      ]
     },
     "execution_count": 84,
     "metadata": {},
     "output_type": "execute_result"
    }
   ],
   "source": [
    "np.stack((outputs.detach().numpy().ravel(),y_val.numpy().ravel())).T.shape"
   ]
  },
  {
   "cell_type": "code",
   "execution_count": 85,
   "id": "9caa9fd5",
   "metadata": {
    "ExecuteTime": {
     "end_time": "2024-04-06T13:48:17.587583Z",
     "start_time": "2024-04-06T13:48:17.583766Z"
    }
   },
   "outputs": [],
   "source": [
    "tmp = np.stack((outputs.detach().numpy().ravel(),y_val.numpy().ravel())).T"
   ]
  },
  {
   "cell_type": "code",
   "execution_count": 102,
   "id": "52a9b747",
   "metadata": {
    "ExecuteTime": {
     "end_time": "2024-04-06T13:56:02.015604Z",
     "start_time": "2024-04-06T13:56:01.911090Z"
    }
   },
   "outputs": [
    {
     "data": {
      "text/plain": [
       "<Axes: >"
      ]
     },
     "execution_count": 102,
     "metadata": {},
     "output_type": "execute_result"
    },
    {
     "data": {
      "image/png": "[encoded data removed]",
      "text/plain": [
       "<Figure size 640x480 with 1 Axes>"
      ]
     },
     "metadata": {},
     "output_type": "display_data"
    }
   ],
   "source": [
    "import matplotlib.pyplot as plt\n",
    "y_hat = []\n",
    "outputs = model(X_val)\n",
    "'''\n",
    "for i, (x, y) in enumerate(val_loader):\n",
    "    outputs = model(x)\n",
    "    y_hat.append(outputs.detach().numpy())\n",
    "'''\n",
    "\n",
    "df_plot = pd.DataFrame(tmp)\n",
    "df_plot.columns = ['y_hat','y_true']\n",
    "df_plot.plot()"
   ]
  },
  {
   "cell_type": "code",
   "execution_count": null,
   "id": "e61625ae",
   "metadata": {},
   "outputs": [],
   "source": []
  }
 ],
 "metadata": {
  "kernelspec": {
   "display_name": "Python 3 (ipykernel)",
   "language": "python",
   "name": "python3"
  },
  "language_info": {
   "codemirror_mode": {
    "name": "ipython",
    "version": 3
   },
   "file_extension": ".py",
   "mimetype": "text/x-python",
   "name": "python",
   "nbconvert_exporter": "python",
   "pygments_lexer": "ipython3",
   "version": "3.9.15"
  },
  "toc": {
   "base_numbering": 1,
   "nav_menu": {},
   "number_sections": true,
   "sideBar": true,
   "skip_h1_title": false,
   "title_cell": "Table of Contents",
   "title_sidebar": "Contents",
   "toc_cell": false,
   "toc_position": {},
   "toc_section_display": true,
   "toc_window_display": false
  }
 },
 "nbformat": 4,
 "nbformat_minor": 5
}
