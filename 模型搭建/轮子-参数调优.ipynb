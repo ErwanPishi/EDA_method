{
 "cells": [
  {
   "cell_type": "markdown",
   "id": "b4dca401",
   "metadata": {},
   "source": [
    "# 网格搜索"
   ]
  },
  {
   "cell_type": "markdown",
   "id": "97ae7f88",
   "metadata": {},
   "source": [
    "<font color=red>网格搜索同样是交叉验证确定最优参数</font>"
   ]
  },
  {
   "cell_type": "code",
   "execution_count": null,
   "id": "4b6156d0",
   "metadata": {},
   "outputs": [],
   "source": [
    "def param_grid_search(train):\n",
    "    \"\"\"\n",
    "    网格搜索参数寻优\n",
    "    :param train:训练集\n",
    "    :return:最优的分类器模型\n",
    "    \"\"\"\n",
    "    print('param_grid_search')\n",
    "    features = train.columns.tolist()\n",
    "    features.remove(\"card_id\")\n",
    "    features.remove(\"target\")\n",
    "    \n",
    "    parameter_space = {\n",
    "        \"n_estimators\": [80,160],\n",
    "        \"min_samples_leaf\": [30],\n",
    "        \"min_samples_split\": [60,120],#\n",
    "        \"max_depth\": [3,5,7,9],\n",
    "        \"max_features\": ['sqrt','log2',50,100]\n",
    "    }\n",
    "\n",
    "    print(\"Tuning hyper-parameters for mse\")\n",
    "    clf = RandomForestRegressor(\n",
    "        criterion=\"squared_error\",\n",
    "        min_weight_fraction_leaf=0.,#类似于min_samples_leaf，不过这里按照权重而不是数目\n",
    "        max_leaf_nodes=None,\n",
    "        min_impurity_decrease=0., #设置最低不纯度，低于这个值就不再分叉了\n",
    "        bootstrap=True,\n",
    "        oob_score=False,\n",
    "        n_jobs=8,\n",
    "        random_state=2020,\n",
    "        verbose=0,\n",
    "        warm_start=False)\n",
    "    grid = GridSearchCV(clf, parameter_space, cv=2, scoring=\"neg_mean_squared_error\")\n",
    "    grid.fit(train[features].values, train['target'].values)\n",
    "\n",
    "    print(\"best_params_:\")\n",
    "    print(grid.best_params_)\n",
    "    print('====================================================================')\n",
    "    means = grid.cv_results_[\"mean_test_score\"]\n",
    "    stds = grid.cv_results_[\"std_test_score\"]\n",
    "    i = 1\n",
    "    for mean, std, params in zip(means, stds, grid.cv_results_[\"params\"]):\n",
    "        print(f'第{i}组参数:')\n",
    "        i+=1\n",
    "        print(\"%0.3f (+/-%0.03f) for %r\"\n",
    "              % (mean, std * 2, params))\n",
    "    return grid.best_estimator_\n"
   ]
  }
 ],
 "metadata": {
  "kernelspec": {
   "display_name": "Python 3 (ipykernel)",
   "language": "python",
   "name": "python3"
  },
  "language_info": {
   "codemirror_mode": {
    "name": "ipython",
    "version": 3
   },
   "file_extension": ".py",
   "mimetype": "text/x-python",
   "name": "python",
   "nbconvert_exporter": "python",
   "pygments_lexer": "ipython3",
   "version": "3.9.15"
  },
  "toc": {
   "base_numbering": 1,
   "nav_menu": {},
   "number_sections": true,
   "sideBar": true,
   "skip_h1_title": false,
   "title_cell": "Table of Contents",
   "title_sidebar": "Contents",
   "toc_cell": false,
   "toc_position": {},
   "toc_section_display": true,
   "toc_window_display": false
  }
 },
 "nbformat": 4,
 "nbformat_minor": 5
}
