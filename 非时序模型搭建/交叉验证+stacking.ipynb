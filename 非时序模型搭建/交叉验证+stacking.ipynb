{
 "cells": [
  {
   "cell_type": "markdown",
   "id": "9edcd758",
   "metadata": {},
   "source": [
    "# 交叉验证"
   ]
  },
  {
   "cell_type": "code",
   "execution_count": null,
   "id": "c6f974dd",
   "metadata": {},
   "outputs": [],
   "source": [
    "from sklearn.model_selection import KFold\n",
    "kf = KFold(n_splits=5,random_state=0,shuffle=True)\n",
    "def get_oof(clf):\n",
    "    oof_train = np.zeros((X_train.shape[0],))\n",
    "    oof_test = np.zeros((X_test.shape[0],))\n",
    "    oof_test_skf = np.empty((5,X_test.shape[0]))\n",
    "    \n",
    "    for i,(trn_idx,val_idx) in enumerate(kf.split(X_train,y_train)):\n",
    "        trn_x,trn_y,val_x,val_y = X_train.iloc[trn_index],y_train[trn_idx],X_train.iloc[val_index],y_train[val_index]\n",
    "        clf.train(trn_x,trn_y)\n",
    "        oof_train[val_index] = clf.predict(val_x)\n",
    "        oof_test_skf[i,:] = clf.predict(X_test)\n",
    "        \n",
    "    oof_test[:] = oof_test_skf.mean(axis=0)\n",
    "    return oof_train.reshape(-1,1),oof_test.reshape(-1,1)\n"
   ]
  },
  {
   "cell_type": "markdown",
   "id": "7eb0d18f",
   "metadata": {},
   "source": [
    "# 单个模型预测"
   ]
  },
  {
   "cell_type": "code",
   "execution_count": null,
   "id": "8d263116",
   "metadata": {},
   "outputs": [],
   "source": [
    "from sklearn.linear_model import LogisticRegression as LR\n",
    "clf1_oof_train,clf1_oof_test = get_oof(clf1)\n",
    "clf2_oof_train,clf1_oof_test = get_oof(clf2)\n",
    "clf3_oof_train,clf1_oof_test = get_oof(clf3)"
   ]
  },
  {
   "cell_type": "markdown",
   "id": "04d5caf6",
   "metadata": {},
   "source": [
    "# stacking\n",
    "进行一次stacking，首先要对每个clf进行k折交叉运算，然后再对meta_clf进行k折交叉运算，因此很费时间"
   ]
  },
  {
   "cell_type": "code",
   "execution_count": null,
   "id": "bbb44662",
   "metadata": {},
   "outputs": [],
   "source": [
    "def stack_model(oof1,oof2,oof3,pred1,pred2,pred3,y):\n",
    "    train_stack = np.hstack([oof1,oof2,oof3])#预测的结果作为输入特征 第i列是第i个clf对训练集的交叉预测结果\n",
    "    test_stack = np.hstack([pred1,pred2,pred3])#每个clf都在5折过程中对test进行了5次预测，然后取平均值得到对test的预测\n",
    "    \n",
    "    oof = np.zeroes((train_stack.shape[0],))\n",
    "    pred = np.zeroes((test_stack.shape[0],))\n",
    "    scores = []\n",
    "    \n",
    "    for _,(trn_idx,val_idx) in enumerate(kf.split(train_stack,y)):\n",
    "        trn_x , trn_y = train_stack[trn_idx],y[trn_idx]\n",
    "        val_x , val_y = train_stack[val_idx],y[val_idx]\n",
    "        meta_clf = LR()\n",
    "        meta_clf.fit(trn_x,trn_y)\n",
    "        oof[val_idx] = meta_clf.predict(val_x)\n",
    "        pred += meta_clf.predict(test_stack)/5 #进行5次预测，然后取平均值\n",
    "        score_single = rmse(val_y,oof[val_idx])\n",
    "        scores.append(score_single)\n",
    "        print(f'{i+1}/{5}',score_single)\n",
    "    print('mean':np.mean(scores))\n",
    "    return oof,pred\n",
    "\n",
    "oof_stack,pred_stack = stack_model(clf1_oof_train,clf2_oof_train,clf3_oof_train,\n",
    "                                   clf1_oof_test,clf2_oof_test,clf3_oof_test)"
   ]
  }
 ],
 "metadata": {
  "kernelspec": {
   "display_name": "Python 3 (ipykernel)",
   "language": "python",
   "name": "python3"
  },
  "language_info": {
   "codemirror_mode": {
    "name": "ipython",
    "version": 3
   },
   "file_extension": ".py",
   "mimetype": "text/x-python",
   "name": "python",
   "nbconvert_exporter": "python",
   "pygments_lexer": "ipython3",
   "version": "3.9.15"
  },
  "toc": {
   "base_numbering": 1,
   "nav_menu": {},
   "number_sections": true,
   "sideBar": true,
   "skip_h1_title": false,
   "title_cell": "Table of Contents",
   "title_sidebar": "Contents",
   "toc_cell": false,
   "toc_position": {},
   "toc_section_display": true,
   "toc_window_display": false
  }
 },
 "nbformat": 4,
 "nbformat_minor": 5
}
