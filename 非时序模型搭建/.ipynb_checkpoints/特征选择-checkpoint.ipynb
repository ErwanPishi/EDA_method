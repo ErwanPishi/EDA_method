{
 "cells": [
  {
   "cell_type": "markdown",
   "id": "30e407ed",
   "metadata": {
    "toc": true
   },
   "source": [
    "<h1>Table of Contents<span class=\"tocSkip\"></span></h1>\n",
    "<div class=\"toc\"><ul class=\"toc-item\"><li><span><a href=\"#相关系数筛选\" data-toc-modified-id=\"相关系数筛选-1\"><span class=\"toc-item-num\">1&nbsp;&nbsp;</span>相关系数筛选</a></span></li><li><span><a href=\"#特征重要性筛选\" data-toc-modified-id=\"特征重要性筛选-2\"><span class=\"toc-item-num\">2&nbsp;&nbsp;</span>特征重要性筛选</a></span></li></ul></div>"
   ]
  },
  {
   "cell_type": "markdown",
   "id": "8501af21",
   "metadata": {},
   "source": [
    "# 相关系数筛选"
   ]
  },
  {
   "cell_type": "code",
   "execution_count": null,
   "id": "bf8b5c10",
   "metadata": {},
   "outputs": [],
   "source": [
    "def feature_select_pearson(train, test):\n",
    "    #pearson相关系数就是最常见的相关系数\n",
    "    \"\"\"\n",
    "    利用pearson相关系数进行相关性特征选择\n",
    "    :param train:训练集\n",
    "    :param test:测试集\n",
    "    :return:经过特征选择后的训练集与测试集\n",
    "    \"\"\"\n",
    "    print('feature_select...')\n",
    "    features = train.columns.tolist()\n",
    "    features.remove(\"card_id\")\n",
    "    features.remove(\"target\")\n",
    "    featureSelect = features[:]\n",
    "\n",
    "    # 去掉缺失值比例超过0.99的\n",
    "    for feature in features:\n",
    "        if train[feature].isnull().sum() / train.shape[0] >= 0.99:\n",
    "            featureSelect.remove(feature)\n",
    "\n",
    "    # 进行pearson相关性计算\n",
    "    corr = []\n",
    "    for feature in featureSelect:\n",
    "        corr.append(abs(train[[feature, 'target']].fillna(0).corr().values[0][1]))#注意这个是2维array，类似于C++数组风格\n",
    "\n",
    "    # 取top300的特征进行建模，具体数量可选\n",
    "    se = pd.Series(corr, index=featureSelect).sort_values(ascending=False)\n",
    "    feature_select = ['card_id'] + se[:300].index.tolist()\n",
    "    print('done')\n",
    "    return train[feature_select + ['target']], test[feature_select]\n",
    "\n",
    "train, test = feature_select_pearson(train, test)"
   ]
  },
  {
   "cell_type": "markdown",
   "id": "b2247136",
   "metadata": {},
   "source": [
    "# 特征重要性筛选"
   ]
  },
  {
   "cell_type": "code",
   "execution_count": null,
   "id": "026e3286",
   "metadata": {},
   "outputs": [],
   "source": []
  }
 ],
 "metadata": {
  "kernelspec": {
   "display_name": "Python 3 (ipykernel)",
   "language": "python",
   "name": "python3"
  },
  "language_info": {
   "codemirror_mode": {
    "name": "ipython",
    "version": 3
   },
   "file_extension": ".py",
   "mimetype": "text/x-python",
   "name": "python",
   "nbconvert_exporter": "python",
   "pygments_lexer": "ipython3",
   "version": "3.9.15"
  },
  "toc": {
   "base_numbering": 1,
   "nav_menu": {},
   "number_sections": true,
   "sideBar": true,
   "skip_h1_title": false,
   "title_cell": "Table of Contents",
   "title_sidebar": "Contents",
   "toc_cell": true,
   "toc_position": {
    "height": "calc(100% - 180px)",
    "left": "10px",
    "top": "150px",
    "width": "256px"
   },
   "toc_section_display": true,
   "toc_window_display": true
  }
 },
 "nbformat": 4,
 "nbformat_minor": 5
}
