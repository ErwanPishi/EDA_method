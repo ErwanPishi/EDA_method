{
 "cells": [
  {
   "cell_type": "markdown",
   "id": "b4dca401",
   "metadata": {},
   "source": [
    "# 网格搜索"
   ]
  },
  {
   "cell_type": "markdown",
   "id": "97ae7f88",
   "metadata": {},
   "source": [
    "<font color=red>网格搜索同样是交叉验证确定最优参数</font>"
   ]
  },
  {
   "cell_type": "code",
   "execution_count": null,
   "id": "4b6156d0",
   "metadata": {},
   "outputs": [],
   "source": [
    "def param_grid_search(train):\n",
    "    \"\"\"\n",
    "    网格搜索参数寻优\n",
    "    :param train:训练集\n",
    "    :return:最优的分类器模型\n",
    "    \"\"\"\n",
    "    print('param_grid_search')\n",
    "    features = train.columns.tolist()\n",
    "    features.remove(\"card_id\")\n",
    "    features.remove(\"target\")\n",
    "    \n",
    "    parameter_space = {\n",
    "        \"n_estimators\": [80,160],\n",
    "        \"min_samples_leaf\": [30],\n",
    "        \"min_samples_split\": [60,120],#\n",
    "        \"max_depth\": [3,5,7,9],\n",
    "        \"max_features\": ['sqrt','log2',50,100]\n",
    "    }\n",
    "\n",
    "    print(\"Tuning hyper-parameters for mse\")\n",
    "    clf = RandomForestRegressor(\n",
    "        criterion=\"squared_error\",\n",
    "        min_weight_fraction_leaf=0.,#类似于min_samples_leaf，不过这里按照权重而不是数目\n",
    "        max_leaf_nodes=None,\n",
    "        min_impurity_decrease=0., #设置最低不纯度，低于这个值就不再分叉了\n",
    "        bootstrap=True,\n",
    "        oob_score=False,\n",
    "        n_jobs=8,\n",
    "        random_state=2020,\n",
    "        verbose=0,\n",
    "        warm_start=False)\n",
    "    grid = GridSearchCV(clf, parameter_space, cv=2, scoring=\"neg_mean_squared_error\")\n",
    "    grid.fit(train[features].values, train['target'].values)\n",
    "\n",
    "    print(\"best_params_:\")\n",
    "    print(grid.best_params_)\n",
    "    print('====================================================================')\n",
    "    means = grid.cv_results_[\"mean_test_score\"]\n",
    "    stds = grid.cv_results_[\"std_test_score\"]\n",
    "    i = 1\n",
    "    for mean, std, params in zip(means, stds, grid.cv_results_[\"params\"]):\n",
    "        print(f'第{i}组参数:')\n",
    "        i+=1\n",
    "        print(\"%0.3f (+/-%0.03f) for %r\"\n",
    "              % (mean, std * 2, params))\n",
    "    return grid.best_estimator_\n"
   ]
  },
  {
   "cell_type": "markdown",
   "id": "8672bef8",
   "metadata": {},
   "source": [
    "# 贝叶斯优化"
   ]
  },
  {
   "cell_type": "markdown",
   "id": "b1611250",
   "metadata": {},
   "source": [
    "## hyperopt"
   ]
  },
  {
   "cell_type": "code",
   "execution_count": null,
   "id": "e9e7b795",
   "metadata": {},
   "outputs": [],
   "source": [
    "def params_append(params):\n",
    "    \"\"\"\n",
    "    默认情况下，在构造LightGBM数据集对象时，将基于min_data_in_leaf的值过滤掉某些特征。\n",
    "    举一个简单的例子，考虑一个具有一个名为feature_1的特征的1000个观测数据集。 \n",
    "    feature_1仅采用两个值：25.0（995个观测值）和50.0（5个观测值）。如果min_data_in_leaf = 10,则此特征没有拆分。\n",
    "    在构建数据集之前，LightGBM不会在重新训练时重新考虑此特征并每次迭代时都忽略它，而是在训练之前将其过滤掉。\n",
    "    可以通过设置feature_pre_filter = False来覆盖此默认行为，以免在hyperopt调参报错\n",
    "    \"\"\"\n",
    "    params['feature_pre_filter'] = False\n",
    "    params['objective'] = 'regression'\n",
    "    params['metric'] = 'rmse'\n",
    "    params['bagging_seed'] = 2020\n",
    "    return params\n",
    "\n",
    "\n",
    "def param_hyperopt(train):\n",
    "    \"\"\"\n",
    "    返回最佳参数\n",
    "    :param train:\n",
    "    :return:\n",
    "    \"\"\"\n",
    "    label = 'target'\n",
    "    features = train.columns.tolist()\n",
    "    features.remove('card_id')\n",
    "    features.remove('target')\n",
    "    train_data = lgb.Dataset(train[features], train[label], silent=True)\n",
    "    def hyperopt_objective(params):#优化的目标函数\n",
    "        \"\"\"\n",
    "\n",
    "        :param params:\n",
    "        :return:\n",
    "        \"\"\"\n",
    "        params = params_append(params)\n",
    "        print(params)\n",
    "        callbacks = [lgb.early_stopping(20)]\n",
    "        res = lgb.cv(params, train_data, 1000,\n",
    "                     nfold=2,\n",
    "                     stratified=False,\n",
    "                     shuffle=True,\n",
    "                     metrics='rmse',\n",
    "                     callbacks=callbacks,\n",
    "                     show_stdv=False,\n",
    "                     seed=2020)\n",
    "        return min(res['rmse-mean'])#目标函数 可以自己选择\n",
    "    \n",
    "    params_space = {\n",
    "        'learning_rate': hp.uniform('learning_rate', 1e-2, 5e-1), #均匀分布\n",
    "        'bagging_fraction': hp.uniform('bagging_fraction', 0.5, 1),\n",
    "        'feature_fraction': hp.uniform('feature_fraction', 0.5, 1),\n",
    "        'num_leaves': hp.choice('num_leaves', list(range(10, 300, 10))),\n",
    "        'reg_alpha': hp.randint('reg_alpha', 0, 10),#随机整数\n",
    "        'reg_lambda': hp.uniform('reg_lambda', 0, 10),\n",
    "        'bagging_freq': hp.randint('bagging_freq', 1, 10),\n",
    "        'min_child_samples': hp.choice('min_child_samples', list(range(1, 30, 5)))\n",
    "        }\n",
    "    #fmin:Minimize a function over a hyperparameter space.\n",
    "    params_best = fmin(\n",
    "        hyperopt_objective,\n",
    "        space=params_space,\n",
    "        algo=tpe.suggest,\n",
    "        max_evals=30,\n",
    "        rstate=np.random.default_rng(2020))\n",
    "    return params_best\n"
   ]
  },
  {
   "cell_type": "markdown",
   "id": "5c6458c4",
   "metadata": {},
   "source": [
    "## beyasian"
   ]
  },
  {
   "cell_type": "code",
   "execution_count": null,
   "id": "380adcb0",
   "metadata": {},
   "outputs": [],
   "source": []
  }
 ],
 "metadata": {
  "kernelspec": {
   "display_name": "Python 3 (ipykernel)",
   "language": "python",
   "name": "python3"
  },
  "language_info": {
   "codemirror_mode": {
    "name": "ipython",
    "version": 3
   },
   "file_extension": ".py",
   "mimetype": "text/x-python",
   "name": "python",
   "nbconvert_exporter": "python",
   "pygments_lexer": "ipython3",
   "version": "3.9.15"
  },
  "toc": {
   "base_numbering": 1,
   "nav_menu": {},
   "number_sections": true,
   "sideBar": true,
   "skip_h1_title": false,
   "title_cell": "Table of Contents",
   "title_sidebar": "Contents",
   "toc_cell": false,
   "toc_position": {},
   "toc_section_display": true,
   "toc_window_display": false
  }
 },
 "nbformat": 4,
 "nbformat_minor": 5
}
