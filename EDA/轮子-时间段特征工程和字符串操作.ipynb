{
 "cells": [
  {
   "cell_type": "markdown",
   "metadata": {},
   "source": [
    "# 采用字典结构提取特征\n",
    "## 从原始数据输入到特征文件生成"
   ]
  },
  {
   "cell_type": "markdown",
   "metadata": {},
   "source": [
    "# 引入三方库"
   ]
  },
  {
   "cell_type": "code",
   "execution_count": 1,
   "metadata": {
    "ExecuteTime": {
     "end_time": "2024-04-16T09:51:16.704365Z",
     "start_time": "2024-04-16T09:51:14.943441Z"
    }
   },
   "outputs": [],
   "source": [
    "import gc\n",
    "import time\n",
    "import numpy as np\n",
    "import pandas as pd\n",
    "import lightgbm as lgb\n",
    "from datetime import datetime\n"
   ]
  },
  {
   "cell_type": "markdown",
   "metadata": {},
   "source": [
    "# 读取所需数据"
   ]
  },
  {
   "cell_type": "code",
   "execution_count": 2,
   "metadata": {
    "ExecuteTime": {
     "end_time": "2024-04-16T09:53:02.836787Z",
     "start_time": "2024-04-16T09:52:18.298468Z"
    }
   },
   "outputs": [],
   "source": [
    "train = pd.read_csv('data/train.csv')\n",
    "test =  pd.read_csv('data/test.csv')\n",
    "merchant = pd.read_csv('data/merchants.csv')\n",
    "new_transaction = pd.read_csv('data/new_merchant_transactions.csv')\n",
    "history_transaction = pd.read_csv('data/historical_transactions.csv')\n"
   ]
  },
  {
   "cell_type": "markdown",
   "metadata": {},
   "source": [
    "# 数据预处理"
   ]
  },
  {
   "cell_type": "markdown",
   "metadata": {},
   "source": [
    "## 时间段特征工程/split/join/strptime/strftime"
   ]
  },
  {
   "cell_type": "code",
   "execution_count": 3,
   "metadata": {
    "ExecuteTime": {
     "end_time": "2024-04-16T09:53:54.495145Z",
     "start_time": "2024-04-16T09:53:51.220115Z"
    }
   },
   "outputs": [
    {
     "data": {
      "text/plain": [
       "0           2018-03-11 14:57:36\n",
       "1           2018-03-19 18:53:37\n",
       "2           2018-04-26 14:08:44\n",
       "3           2018-03-07 09:43:21\n",
       "4           2018-03-22 21:07:53\n",
       "                   ...         \n",
       "31075387    2017-01-20 08:52:04\n",
       "31075388    2017-02-20 04:40:50\n",
       "31075389    2017-12-26 18:37:51\n",
       "31075390    2017-11-24 14:18:15\n",
       "31075391    2017-10-26 14:09:40\n",
       "Name: purchase_date, Length: 31075392, dtype: object"
      ]
     },
     "execution_count": 3,
     "metadata": {},
     "output_type": "execute_result"
    }
   ],
   "source": [
    "## 交易记录\n",
    "# 1、为了统一处理，首先拼接new和history两张表格，后续可以month_lag>=0进行区分。\n",
    "transaction = pd.concat([new_transaction, history_transaction], axis=0, ignore_index=True)\n",
    "del new_transaction\n",
    "del history_transaction\n",
    "gc.collect()\n",
    "transaction['purchase_date']"
   ]
  },
  {
   "cell_type": "code",
   "execution_count": 4,
   "metadata": {
    "ExecuteTime": {
     "end_time": "2024-04-16T09:57:29.349957Z",
     "start_time": "2024-04-16T09:54:50.307361Z"
    }
   },
   "outputs": [
    {
     "data": {
      "text/html": [
       "<div>\n",
       "<style scoped>\n",
       "    .dataframe tbody tr th:only-of-type {\n",
       "        vertical-align: middle;\n",
       "    }\n",
       "\n",
       "    .dataframe tbody tr th {\n",
       "        vertical-align: top;\n",
       "    }\n",
       "\n",
       "    .dataframe thead th {\n",
       "        text-align: right;\n",
       "    }\n",
       "</style>\n",
       "<table border=\"1\" class=\"dataframe\">\n",
       "  <thead>\n",
       "    <tr style=\"text-align: right;\">\n",
       "      <th></th>\n",
       "      <th>purchase_month</th>\n",
       "      <th>purchase_hour_section</th>\n",
       "      <th>purchase_day</th>\n",
       "    </tr>\n",
       "  </thead>\n",
       "  <tbody>\n",
       "    <tr>\n",
       "      <th>0</th>\n",
       "      <td>2018-03</td>\n",
       "      <td>2</td>\n",
       "      <td>1</td>\n",
       "    </tr>\n",
       "    <tr>\n",
       "      <th>1</th>\n",
       "      <td>2018-03</td>\n",
       "      <td>3</td>\n",
       "      <td>0</td>\n",
       "    </tr>\n",
       "    <tr>\n",
       "      <th>2</th>\n",
       "      <td>2018-04</td>\n",
       "      <td>2</td>\n",
       "      <td>0</td>\n",
       "    </tr>\n",
       "    <tr>\n",
       "      <th>3</th>\n",
       "      <td>2018-03</td>\n",
       "      <td>1</td>\n",
       "      <td>0</td>\n",
       "    </tr>\n",
       "    <tr>\n",
       "      <th>4</th>\n",
       "      <td>2018-03</td>\n",
       "      <td>3</td>\n",
       "      <td>0</td>\n",
       "    </tr>\n",
       "    <tr>\n",
       "      <th>...</th>\n",
       "      <td>...</td>\n",
       "      <td>...</td>\n",
       "      <td>...</td>\n",
       "    </tr>\n",
       "    <tr>\n",
       "      <th>31075387</th>\n",
       "      <td>2017-01</td>\n",
       "      <td>1</td>\n",
       "      <td>0</td>\n",
       "    </tr>\n",
       "    <tr>\n",
       "      <th>31075388</th>\n",
       "      <td>2017-02</td>\n",
       "      <td>0</td>\n",
       "      <td>0</td>\n",
       "    </tr>\n",
       "    <tr>\n",
       "      <th>31075389</th>\n",
       "      <td>2017-12</td>\n",
       "      <td>3</td>\n",
       "      <td>0</td>\n",
       "    </tr>\n",
       "    <tr>\n",
       "      <th>31075390</th>\n",
       "      <td>2017-11</td>\n",
       "      <td>2</td>\n",
       "      <td>0</td>\n",
       "    </tr>\n",
       "    <tr>\n",
       "      <th>31075391</th>\n",
       "      <td>2017-10</td>\n",
       "      <td>2</td>\n",
       "      <td>0</td>\n",
       "    </tr>\n",
       "  </tbody>\n",
       "</table>\n",
       "<p>31075392 rows × 3 columns</p>\n",
       "</div>"
      ],
      "text/plain": [
       "         purchase_month  purchase_hour_section  purchase_day\n",
       "0               2018-03                      2             1\n",
       "1               2018-03                      3             0\n",
       "2               2018-04                      2             0\n",
       "3               2018-03                      1             0\n",
       "4               2018-03                      3             0\n",
       "...                 ...                    ...           ...\n",
       "31075387        2017-01                      1             0\n",
       "31075388        2017-02                      0             0\n",
       "31075389        2017-12                      3             0\n",
       "31075390        2017-11                      2             0\n",
       "31075391        2017-10                      2             0\n",
       "\n",
       "[31075392 rows x 3 columns]"
      ]
     },
     "execution_count": 4,
     "metadata": {},
     "output_type": "execute_result"
    }
   ],
   "source": [
    "# 4、进行时间段的处理，简单起见进行月份、日期的星期数（工作日与周末）、以及时间段（上午、下午、晚上、凌晨）的信息提取。\n",
    "transaction['purchase_month'] = transaction['purchase_date'].apply(lambda x:'-'.join(x.split(' ')[0].split('-')[:2]))\n",
    "#输出0/1/2/3 上午/下午/晚上/凌晨\n",
    "transaction['purchase_hour_section'] = transaction['purchase_date'].apply(lambda x: x.split(' ')[1].split(':')[0]).astype(int)//6 \n",
    "#输出0/1 工作日/周末\n",
    "transaction['purchase_day'] = transaction['purchase_date'].apply(lambda x: datetime.strptime(x.split(\" \")[0], \"%Y-%m-%d\").weekday())//5                                                                    \n",
    "\n",
    "transaction[['purchase_month','purchase_hour_section','purchase_day']]"
   ]
  },
  {
   "cell_type": "code",
   "execution_count": 6,
   "metadata": {
    "ExecuteTime": {
     "end_time": "2024-04-16T10:00:09.424341Z",
     "start_time": "2024-04-16T10:00:08.266641Z"
    }
   },
   "outputs": [
    {
     "data": {
      "text/plain": [
       "purchase_hour_section  purchase_day\n",
       "0                      0               1413293\n",
       "                       1                814310\n",
       "1                      0               4555719\n",
       "                       1               1923398\n",
       "2                      0               9651946\n",
       "                       1               3658022\n",
       "3                      0               6703531\n",
       "                       1               2355173\n",
       "Name: count, dtype: int64"
      ]
     },
     "execution_count": 6,
     "metadata": {},
     "output_type": "execute_result"
    }
   ],
   "source": [
    "transaction[['purchase_hour_section','purchase_day']].value_counts().sort_index()"
   ]
  }
 ],
 "metadata": {
  "kernelspec": {
   "display_name": "Python 3 (ipykernel)",
   "language": "python",
   "name": "python3"
  },
  "language_info": {
   "codemirror_mode": {
    "name": "ipython",
    "version": 3
   },
   "file_extension": ".py",
   "mimetype": "text/x-python",
   "name": "python",
   "nbconvert_exporter": "python",
   "pygments_lexer": "ipython3",
   "version": "3.9.15"
  },
  "toc": {
   "base_numbering": 1,
   "nav_menu": {},
   "number_sections": true,
   "sideBar": true,
   "skip_h1_title": false,
   "title_cell": "Table of Contents",
   "title_sidebar": "Contents",
   "toc_cell": false,
   "toc_position": {
    "height": "calc(100% - 180px)",
    "left": "10px",
    "top": "150px",
    "width": "256px"
   },
   "toc_section_display": true,
   "toc_window_display": false
  }
 },
 "nbformat": 4,
 "nbformat_minor": 2
}
